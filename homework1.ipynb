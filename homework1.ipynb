{
 "cells": [
  {
   "cell_type": "code",
   "execution_count": 7,
   "id": "076a292c-e403-4e1d-b167-5ddf7fddb683",
   "metadata": {},
   "outputs": [
    {
     "name": "stdin",
     "output_type": "stream",
     "text": [
      " 10\n"
     ]
    },
    {
     "name": "stdout",
     "output_type": "stream",
     "text": [
      "20\n"
     ]
    }
   ],
   "source": [
    "#BT1\n",
    "n = int( input(\"nhap vao so nguyen n:\") )\n",
    "print(2*n)\n"
   ]
  },
  {
   "cell_type": "code",
   "execution_count": 1,
   "id": "619816e4-012c-4b5f-9bb1-9983856b93fd",
   "metadata": {},
   "outputs": [
    {
     "name": "stdin",
     "output_type": "stream",
     "text": [
      "chieu rong:  8\n",
      "chieu dai:  9\n"
     ]
    },
    {
     "name": "stdout",
     "output_type": "stream",
     "text": [
      "21.76\n"
     ]
    }
   ],
   "source": [
    "#BT2\n",
    "a = int(input(\"chieu rong: \"))\n",
    "b = int(input(\"chieu dai: \"))\n",
    "Sht = (a * b) - (((a/2)**2) * (3.14))\n",
    "print(f'{Sht:.2f}')\n"
   ]
  },
  {
   "cell_type": "code",
   "execution_count": 26,
   "id": "bde2d0ca-6086-4a7c-b752-2bcf003733e6",
   "metadata": {},
   "outputs": [
    {
     "name": "stdin",
     "output_type": "stream",
     "text": [
      "Nhập 1 chữ: e\n"
     ]
    },
    {
     "name": "stdout",
     "output_type": "stream",
     "text": [
      "E\n"
     ]
    }
   ],
   "source": [
    "#BT3\n",
    "chu = str(input(\"Nhập 1 chữ:\"))\n",
    "so = ord(chu)\n",
    "if 97 <= so < 122:\n",
    "    so1 = so - 32\n",
    "    chuchuyendoi = chr(so1)\n",
    "    print(chuchuyendoi) \n",
    "elif 65 <= so < 91:\n",
    "    so1 = so + 32\n",
    "    chuchuyendoi = chr(so1)\n",
    "    print(chuchuyendoi) \n",
    "else:\n",
    "    print(\"Nhập 1 chữ!\")\n"
   ]
  },
  {
   "cell_type": "code",
   "execution_count": 25,
   "id": "d0bfe040-5714-4def-921a-088ae9cc45f2",
   "metadata": {},
   "outputs": [
    {
     "name": "stdin",
     "output_type": "stream",
     "text": [
      "nhap chu:  3\n"
     ]
    },
    {
     "name": "stdout",
     "output_type": "stream",
     "text": [
      "ko phai chu\n"
     ]
    }
   ],
   "source": [
    "#BT3 ChatGPT\n",
    "chu = input(\"nhap chu: \")\n",
    "if len(chu) != 1:\n",
    "    print(\"Vui lòng nhập đúng 1 ký tự!\")\n",
    "else:\n",
    "    so = ord(chu)\n",
    "    if 97 <= so <= 122:   # a-z\n",
    "        print(chr(so - 32))\n",
    "    elif 65 <= so <= 90:  # A-Z\n",
    "        print(chr(so + 32))\n",
    "    else:\n",
    "        print(\"ko phai chu\")\n"
   ]
  },
  {
   "cell_type": "code",
   "execution_count": 7,
   "id": "1277d407-9492-4802-96b7-e619d9e090d9",
   "metadata": {},
   "outputs": [
    {
     "name": "stdin",
     "output_type": "stream",
     "text": [
      "Nhap chu: h\n"
     ]
    },
    {
     "name": "stdout",
     "output_type": "stream",
     "text": [
      "h la ki tu alphabet\n"
     ]
    }
   ],
   "source": [
    "#BT4\n",
    "chu = input (\"Nhap chu:\")\n",
    "sochuyen = ord(chu)\n",
    "if (65 <= sochuyen < 91) or (97 <= sochuyen < 122):\n",
    "    chucai = chr(sochuyen)\n",
    "    print( chucai , \"la ki tu alphabet\")\n",
    "else:\n",
    "    kophaichu = chr(sochuyen)\n",
    "    print( kophaichu, \"khong la ki tu alphabet\")\n"
   ]
  },
  {
   "cell_type": "code",
   "execution_count": 10,
   "id": "36ead965-44c9-4f18-83aa-56f99a8df798",
   "metadata": {},
   "outputs": [
    {
     "name": "stdin",
     "output_type": "stream",
     "text": [
      "nhập 1 chữ in hoa: H\n"
     ]
    },
    {
     "name": "stdout",
     "output_type": "stream",
     "text": [
      "Chữ cái liền trước H là g\n"
     ]
    }
   ],
   "source": [
    "#BT5\n",
    "chuinhoa = str(input(\"nhập 1 chữ in hoa:\"))\n",
    "sochuyen = ord(chuinhoa)\n",
    "if 65 < sochuyen <= 90:\n",
    "    so1 = sochuyen + 31\n",
    "    chulientruoc = chr(so1)\n",
    "    print(\"Chữ cái liền trước\" , chuinhoa , \"là\" , chulientruoc)\n",
    "elif 65 == sochuyen:\n",
    "    print(\"Không có chữ cái liền trước a\")\n",
    "else: print(\"vui lòng nhập 1 chữ cái in hoa!\")\n"
   ]
  },
  {
   "cell_type": "code",
   "execution_count": null,
   "id": "5f262238-a195-476c-986c-148ff4b91f44",
   "metadata": {},
   "outputs": [],
   "source": []
  }
 ],
 "metadata": {
  "kernelspec": {
   "display_name": "Python 3 (ipykernel)",
   "language": "python",
   "name": "python3"
  },
  "language_info": {
   "codemirror_mode": {
    "name": "ipython",
    "version": 3
   },
   "file_extension": ".py",
   "mimetype": "text/x-python",
   "name": "python",
   "nbconvert_exporter": "python",
   "pygments_lexer": "ipython3",
   "version": "3.13.5"
  }
 },
 "nbformat": 4,
 "nbformat_minor": 5
}
